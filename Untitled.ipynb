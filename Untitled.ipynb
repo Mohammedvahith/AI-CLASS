{
 "cells": [
  {
   "cell_type": "markdown",
   "id": "2954d67c",
   "metadata": {},
   "source": [
    "# creating data set\n"
   ]
  },
  {
   "cell_type": "code",
   "execution_count": 1,
   "id": "19f98bce",
   "metadata": {},
   "outputs": [],
   "source": [
    "data=[11,12,13,14,15,16,21,2,22,44,55,43,67]"
   ]
  },
  {
   "cell_type": "code",
   "execution_count": 2,
   "id": "3f136baf",
   "metadata": {},
   "outputs": [
    {
     "name": "stdout",
     "output_type": "stream",
     "text": [
      "[11, 12, 13, 14, 15, 16, 21, 2, 22, 44, 55, 43, 67]\n"
     ]
    }
   ],
   "source": [
    "print(data)\n"
   ]
  },
  {
   "cell_type": "code",
   "execution_count": 3,
   "id": "e0b49bfc",
   "metadata": {},
   "outputs": [],
   "source": [
    "data.sort(reverse=True)"
   ]
  },
  {
   "cell_type": "code",
   "execution_count": 4,
   "id": "03540ea9",
   "metadata": {},
   "outputs": [
    {
     "name": "stdout",
     "output_type": "stream",
     "text": [
      "[67, 55, 44, 43, 22, 21, 16, 15, 14, 13, 12, 11, 2]\n"
     ]
    }
   ],
   "source": [
    "print(data)"
   ]
  },
  {
   "cell_type": "code",
   "execution_count": 5,
   "id": "5d811679",
   "metadata": {},
   "outputs": [
    {
     "name": "stdout",
     "output_type": "stream",
     "text": [
      "[67, 55, 44, 43, 22, 21, 16, 15, 14, 13, 12, 11, 2]\n"
     ]
    }
   ],
   "source": [
    "print(data)"
   ]
  },
  {
   "cell_type": "markdown",
   "id": "7cd1bb8f",
   "metadata": {},
   "source": [
    "# binary search algorithm"
   ]
  },
  {
   "cell_type": "code",
   "execution_count": 6,
   "id": "819a4890",
   "metadata": {},
   "outputs": [
    {
     "name": "stdout",
     "output_type": "stream",
     "text": [
      "22\n"
     ]
    }
   ],
   "source": [
    "data=[11,12,13,14,15,16,21,2,22,44,55,43,67]\n",
    "element=int(input())\n",
    "def binary_search(data,element):\n",
    "    \n",
    "    low=0\n",
    "    high=len(data)-1\n",
    "    \n",
    "    while low<=high:\n",
    "        \n",
    "        middle=(low+high)//2\n",
    "        \n",
    "        if data[middle]==element:\n",
    "            print(f\"the searching element {element} is present at index value {middle} in data set\")\n",
    "            break\n",
    "        elif data[middle] > element:\n",
    "            high=middle-1\n",
    "        else:\n",
    "            low=middle+1\n",
    "    if data[middle] !=  element:\n",
    "        print(f\"the searching element {element} is not present\")\n",
    "        return -1"
   ]
  },
  {
   "cell_type": "code",
   "execution_count": 7,
   "id": "f4db79d3",
   "metadata": {},
   "outputs": [
    {
     "name": "stdout",
     "output_type": "stream",
     "text": [
      "the searching element 22 is present at index value 8 in data set\n"
     ]
    }
   ],
   "source": [
    "binary_search(data,element)"
   ]
  },
  {
   "cell_type": "code",
   "execution_count": null,
   "id": "779c9451",
   "metadata": {},
   "outputs": [],
   "source": []
  },
  {
   "cell_type": "code",
   "execution_count": null,
   "id": "18c0cdca",
   "metadata": {},
   "outputs": [],
   "source": []
  }
 ],
 "metadata": {
  "kernelspec": {
   "display_name": "Python 3 (ipykernel)",
   "language": "python",
   "name": "python3"
  },
  "language_info": {
   "codemirror_mode": {
    "name": "ipython",
    "version": 3
   },
   "file_extension": ".py",
   "mimetype": "text/x-python",
   "name": "python",
   "nbconvert_exporter": "python",
   "pygments_lexer": "ipython3",
   "version": "3.9.13"
  }
 },
 "nbformat": 4,
 "nbformat_minor": 5
}
