{
 "cells": [
  {
   "cell_type": "code",
   "execution_count": 1,
   "id": "f89dd4b3",
   "metadata": {},
   "outputs": [
    {
     "name": "stdout",
     "output_type": "stream",
     "text": [
      "my name is naruto uzumaki,dattebayo\n"
     ]
    }
   ],
   "source": [
    "print(\"my name is {},dattebayo\".format(\"naruto uzumaki\"))"
   ]
  },
  {
   "cell_type": "code",
   "execution_count": 2,
   "id": "e83334ed",
   "metadata": {},
   "outputs": [],
   "source": [
    "name=\"anash\"\n",
    "clan=\"lets play\"\n",
    "townhall=\"5\""
   ]
  },
  {
   "cell_type": "code",
   "execution_count": 3,
   "id": "7cfe1d32",
   "metadata": {},
   "outputs": [
    {
     "name": "stdout",
     "output_type": "stream",
     "text": [
      "my name is anash,coc player,clan is lets play,townhall is5\n"
     ]
    }
   ],
   "source": [
    "print(\"my name is {},coc player,clan is {},townhall is{}\".format(name,clan,townhall))"
   ]
  },
  {
   "cell_type": "markdown",
   "id": "011385ae",
   "metadata": {},
   "source": [
    "# information\n"
   ]
  },
  {
   "cell_type": "code",
   "execution_count": 4,
   "id": "27016467",
   "metadata": {},
   "outputs": [
    {
     "name": "stdout",
     "output_type": "stream",
     "text": [
      "my name is anash,studyingcse,year2\n"
     ]
    }
   ],
   "source": [
    "print(\"my name is {},studying{},year{}\".format(\"anash\",\"cse\",2))"
   ]
  },
  {
   "cell_type": "code",
   "execution_count": 14,
   "id": "8e345f62",
   "metadata": {},
   "outputs": [],
   "source": [
    "student_name=['anash','halala','hasan','glad','sakthi']"
   ]
  },
  {
   "cell_type": "code",
   "execution_count": 6,
   "id": "743335e1",
   "metadata": {},
   "outputs": [
    {
     "data": {
      "text/plain": [
       "list"
      ]
     },
     "execution_count": 6,
     "metadata": {},
     "output_type": "execute_result"
    }
   ],
   "source": [
    "type(student_name)"
   ]
  },
  {
   "cell_type": "code",
   "execution_count": 7,
   "id": "ab2f970f",
   "metadata": {},
   "outputs": [
    {
     "data": {
      "text/plain": [
       "'glad'"
      ]
     },
     "execution_count": 7,
     "metadata": {},
     "output_type": "execute_result"
    }
   ],
   "source": [
    "student_name[3]"
   ]
  },
  {
   "cell_type": "code",
   "execution_count": 12,
   "id": "675cd7c7",
   "metadata": {},
   "outputs": [],
   "source": [
    "student_name=[3]"
   ]
  },
  {
   "cell_type": "code",
   "execution_count": 13,
   "id": "c1b5b96d",
   "metadata": {},
   "outputs": [
    {
     "data": {
      "text/plain": [
       "3"
      ]
     },
     "execution_count": 13,
     "metadata": {},
     "output_type": "execute_result"
    }
   ],
   "source": [
    "student_name[0]"
   ]
  },
  {
   "cell_type": "code",
   "execution_count": 15,
   "id": "951526e0",
   "metadata": {},
   "outputs": [
    {
     "data": {
      "text/plain": [
       "'glad'"
      ]
     },
     "execution_count": 15,
     "metadata": {},
     "output_type": "execute_result"
    }
   ],
   "source": [
    "student_name[3]"
   ]
  },
  {
   "cell_type": "code",
   "execution_count": 14,
   "id": "dc9613f6",
   "metadata": {},
   "outputs": [],
   "source": [
    "bio_data=[('my name is {}'.format('anash')), ('my name is {}'.format('anash'))]"
   ]
  },
  {
   "cell_type": "code",
   "execution_count": 15,
   "id": "cdde995b",
   "metadata": {},
   "outputs": [
    {
     "data": {
      "text/plain": [
       "'my name is anash'"
      ]
     },
     "execution_count": 15,
     "metadata": {},
     "output_type": "execute_result"
    }
   ],
   "source": [
    "bio_data[0]"
   ]
  },
  {
   "cell_type": "code",
   "execution_count": 13,
   "id": "b1d6eda4",
   "metadata": {},
   "outputs": [
    {
     "data": {
      "text/plain": [
       "'iam studying B TECH[cse]'"
      ]
     },
     "execution_count": 13,
     "metadata": {},
     "output_type": "execute_result"
    }
   ],
   "source": [
    "bio_data[1]"
   ]
  },
  {
   "cell_type": "code",
   "execution_count": 10,
   "id": "c65f0389",
   "metadata": {},
   "outputs": [
    {
     "data": {
      "text/plain": [
       "'my name is anash'"
      ]
     },
     "execution_count": 10,
     "metadata": {},
     "output_type": "execute_result"
    }
   ],
   "source": [
    "bio_data[0]"
   ]
  },
  {
   "cell_type": "markdown",
   "id": "2a5ed3ac",
   "metadata": {},
   "source": [
    "# DICTIONARY \n",
    "variable-name{key,value}"
   ]
  },
  {
   "cell_type": "code",
   "execution_count": 17,
   "id": "cefdbf60",
   "metadata": {},
   "outputs": [],
   "source": [
    "student_info={\"name\":'anash'}"
   ]
  },
  {
   "cell_type": "code",
   "execution_count": 19,
   "id": "69f428d3",
   "metadata": {},
   "outputs": [
    {
     "data": {
      "text/plain": [
       "{'name': 'anash'}"
      ]
     },
     "execution_count": 19,
     "metadata": {},
     "output_type": "execute_result"
    }
   ],
   "source": [
    "student_info"
   ]
  },
  {
   "cell_type": "markdown",
   "id": "69b4f5b3",
   "metadata": {},
   "source": [
    "#  SET\n",
    "set,frozen set"
   ]
  },
  {
   "cell_type": "code",
   "execution_count": 36,
   "id": "2d90fa5d",
   "metadata": {},
   "outputs": [],
   "source": [
    "test={4,44,43,56,55,'anash',10,11,12,'hasan',11.2,11.3}"
   ]
  },
  {
   "cell_type": "code",
   "execution_count": 37,
   "id": "c52db149",
   "metadata": {},
   "outputs": [
    {
     "data": {
      "text/plain": [
       "{10, 11, 11.2, 11.3, 12, 4, 43, 44, 55, 56, 'anash', 'hasan'}"
      ]
     },
     "execution_count": 37,
     "metadata": {},
     "output_type": "execute_result"
    }
   ],
   "source": [
    "test"
   ]
  },
  {
   "cell_type": "markdown",
   "id": "aacdf4de",
   "metadata": {},
   "source": [
    "#  BOOLEAN"
   ]
  },
  {
   "cell_type": "code",
   "execution_count": 40,
   "id": "7e15bb7e",
   "metadata": {},
   "outputs": [
    {
     "data": {
      "text/plain": [
       "True"
      ]
     },
     "execution_count": 40,
     "metadata": {},
     "output_type": "execute_result"
    }
   ],
   "source": [
    "1<=1"
   ]
  },
  {
   "cell_type": "code",
   "execution_count": 43,
   "id": "4dd8077d",
   "metadata": {},
   "outputs": [
    {
     "data": {
      "text/plain": [
       "False"
      ]
     },
     "execution_count": 43,
     "metadata": {},
     "output_type": "execute_result"
    }
   ],
   "source": [
    "'hasan'=='anash'"
   ]
  },
  {
   "cell_type": "code",
   "execution_count": 49,
   "id": "d86de0cd",
   "metadata": {},
   "outputs": [],
   "source": [
    "a=10"
   ]
  },
  {
   "cell_type": "code",
   "execution_count": 50,
   "id": "c389617e",
   "metadata": {},
   "outputs": [],
   "source": [
    "b=2"
   ]
  },
  {
   "cell_type": "code",
   "execution_count": 51,
   "id": "3748c64c",
   "metadata": {},
   "outputs": [],
   "source": [
    "a=b"
   ]
  },
  {
   "cell_type": "code",
   "execution_count": 52,
   "id": "196f9063",
   "metadata": {},
   "outputs": [
    {
     "data": {
      "text/plain": [
       "True"
      ]
     },
     "execution_count": 52,
     "metadata": {},
     "output_type": "execute_result"
    }
   ],
   "source": [
    "a==b"
   ]
  },
  {
   "cell_type": "code",
   "execution_count": null,
   "id": "45fd4f65",
   "metadata": {},
   "outputs": [],
   "source": []
  },
  {
   "cell_type": "code",
   "execution_count": null,
   "id": "0490e628",
   "metadata": {},
   "outputs": [],
   "source": []
  },
  {
   "cell_type": "code",
   "execution_count": null,
   "id": "8b0e4365",
   "metadata": {},
   "outputs": [],
   "source": []
  },
  {
   "cell_type": "code",
   "execution_count": null,
   "id": "35d1adae",
   "metadata": {},
   "outputs": [],
   "source": []
  },
  {
   "cell_type": "code",
   "execution_count": null,
   "id": "5bbec633",
   "metadata": {},
   "outputs": [],
   "source": []
  }
 ],
 "metadata": {
  "kernelspec": {
   "display_name": "Python 3 (ipykernel)",
   "language": "python",
   "name": "python3"
  },
  "language_info": {
   "codemirror_mode": {
    "name": "ipython",
    "version": 3
   },
   "file_extension": ".py",
   "mimetype": "text/x-python",
   "name": "python",
   "nbconvert_exporter": "python",
   "pygments_lexer": "ipython3",
   "version": "3.9.12"
  }
 },
 "nbformat": 4,
 "nbformat_minor": 5
}
