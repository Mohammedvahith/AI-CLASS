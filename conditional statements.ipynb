{
 "cells": [
  {
   "cell_type": "markdown",
   "id": "ceb9d0c8",
   "metadata": {},
   "source": [
    "# CONDITIONAL statements"
   ]
  },
  {
   "cell_type": "markdown",
   "id": "22abe317",
   "metadata": {},
   "source": [
    "## if starement\n",
    "\n",
    "\n"
   ]
  },
  {
   "cell_type": "code",
   "execution_count": 1,
   "id": "6cec194a",
   "metadata": {},
   "outputs": [],
   "source": [
    "a=16"
   ]
  },
  {
   "cell_type": "code",
   "execution_count": 2,
   "id": "cbedec09",
   "metadata": {},
   "outputs": [],
   "source": [
    "b=20"
   ]
  },
  {
   "cell_type": "code",
   "execution_count": 3,
   "id": "fd4406ba",
   "metadata": {},
   "outputs": [],
   "source": [
    "c=a+b"
   ]
  },
  {
   "cell_type": "code",
   "execution_count": 9,
   "id": "0a957f74",
   "metadata": {},
   "outputs": [],
   "source": [
    "if(c==6):\n",
    "    print(c)\n",
    "else:\n",
    "     0"
   ]
  },
  {
   "cell_type": "code",
   "execution_count": 18,
   "id": "ad223bab",
   "metadata": {},
   "outputs": [
    {
     "name": "stdout",
     "output_type": "stream",
     "text": [
      "false\n"
     ]
    }
   ],
   "source": [
    "if(a==b):\n",
    "    print(\"true\")\n",
    "else:\n",
    "    print(\"false\")"
   ]
  },
  {
   "cell_type": "code",
   "execution_count": 24,
   "id": "9250189a",
   "metadata": {},
   "outputs": [
    {
     "name": "stdout",
     "output_type": "stream",
     "text": [
      "enter your Class:1\n"
     ]
    },
    {
     "data": {
      "text/plain": [
       "'1'"
      ]
     },
     "execution_count": 24,
     "metadata": {},
     "output_type": "execute_result"
    }
   ],
   "source": [
    "input(\"enter your Class:\")"
   ]
  },
  {
   "cell_type": "code",
   "execution_count": 9,
   "id": "b11d4dcc",
   "metadata": {},
   "outputs": [
    {
     "name": "stdout",
     "output_type": "stream",
     "text": [
      "enter class:Y\n",
      "invalid key\n"
     ]
    }
   ],
   "source": [
    "ticket={'a':200,'b':150,'c':100}\n",
    "Class=input(\"enter class:\")\n",
    "if Class=='a':\n",
    " print(\"you entered class a and ticket rate is{}\".format(ticket['a']))\n",
    "elif Class=='b':\n",
    "    print(\"you entered class b and ticket rate is{}\".format(ticket['b']))\n",
    "elif Class=='c':\n",
    "    print(\"you entered class c and the ticket rate is{}\".format(ticket['c']))\n",
    "else:\n",
    "    print(\"invalid key\")"
   ]
  },
  {
   "cell_type": "markdown",
   "id": "9284e24e",
   "metadata": {},
   "source": [
    "# LOOPING  STATEMENT"
   ]
  },
  {
   "cell_type": "code",
   "execution_count": null,
   "id": "d2c62251",
   "metadata": {},
   "outputs": [],
   "source": [
    "for i in range(2,100)\n",
    "if(100%1==0):\n",
    "    print(i)\n",
    "else:\n",
    "    "
   ]
  }
 ],
 "metadata": {
  "kernelspec": {
   "display_name": "Python 3 (ipykernel)",
   "language": "python",
   "name": "python3"
  },
  "language_info": {
   "codemirror_mode": {
    "name": "ipython",
    "version": 3
   },
   "file_extension": ".py",
   "mimetype": "text/x-python",
   "name": "python",
   "nbconvert_exporter": "python",
   "pygments_lexer": "ipython3",
   "version": "3.9.12"
  }
 },
 "nbformat": 4,
 "nbformat_minor": 5
}
