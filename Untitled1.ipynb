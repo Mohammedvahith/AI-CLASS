{
 "cells": [
  {
   "cell_type": "markdown",
   "id": "7f8eaa64",
   "metadata": {},
   "source": [
    "# CONDITIONAL statements"
   ]
  },
  {
   "cell_type": "markdown",
   "id": "aa9d7839",
   "metadata": {},
   "source": [
    "# IF STATE MENT\n"
   ]
  },
  {
   "cell_type": "code",
   "execution_count": 1,
   "id": "057ed0c1",
   "metadata": {},
   "outputs": [
    {
     "name": "stdout",
     "output_type": "stream",
     "text": [
      "false\n"
     ]
    }
   ],
   "source": [
    "a=16\n",
    "b=20\n",
    "c=a+b\n",
    "if(c==6):\n",
    "    print(c)\n",
    "else:\n",
    "     0\n",
    "if(a==b):\n",
    "    print(\"true\")\n",
    "else:\n",
    "    print(\"false\")"
   ]
  },
  {
   "cell_type": "code",
   "execution_count": 2,
   "id": "77f9ba31",
   "metadata": {},
   "outputs": [
    {
     "name": "stdout",
     "output_type": "stream",
     "text": [
      "enter your Class:5\n"
     ]
    },
    {
     "data": {
      "text/plain": [
       "'5'"
      ]
     },
     "execution_count": 2,
     "metadata": {},
     "output_type": "execute_result"
    }
   ],
   "source": [
    "input(\"enter your Class:\")"
   ]
  },
  {
   "cell_type": "code",
   "execution_count": 4,
   "id": "1eff3a41",
   "metadata": {},
   "outputs": [
    {
     "name": "stdout",
     "output_type": "stream",
     "text": [
      "enter class:b\n",
      "you entered class b and ticket rate is150\n"
     ]
    }
   ],
   "source": [
    "ticket={'a':200,'b':150,'c':100}\n",
    "Class=input(\"enter class:\")\n",
    "if Class=='a':\n",
    " print(\"you entered class a and ticket rate is{}\".format(ticket['a']))\n",
    "elif Class=='b':\n",
    "    print(\"you entered class b and ticket rate is{}\".format(ticket['b']))\n",
    "elif Class=='c':\n",
    "    print(\"you entered class c and the ticket rate is{}\".format(ticket['c']))\n",
    "else:\n",
    "    print(\"invalid key\")"
   ]
  },
  {
   "cell_type": "markdown",
   "id": "e5005bf6",
   "metadata": {},
   "source": [
    "# looping statement"
   ]
  },
  {
   "cell_type": "code",
   "execution_count": null,
   "id": "aa695012",
   "metadata": {},
   "outputs": [],
   "source": []
  }
 ],
 "metadata": {
  "kernelspec": {
   "display_name": "Python 3 (ipykernel)",
   "language": "python",
   "name": "python3"
  },
  "language_info": {
   "codemirror_mode": {
    "name": "ipython",
    "version": 3
   },
   "file_extension": ".py",
   "mimetype": "text/x-python",
   "name": "python",
   "nbconvert_exporter": "python",
   "pygments_lexer": "ipython3",
   "version": "3.9.13"
  }
 },
 "nbformat": 4,
 "nbformat_minor": 5
}
