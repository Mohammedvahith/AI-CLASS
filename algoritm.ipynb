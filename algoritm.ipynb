{
 "cells": [
  {
   "cell_type": "markdown",
   "id": "50bc8a11",
   "metadata": {},
   "source": [
    "# ALGORITHM"
   ]
  },
  {
   "cell_type": "markdown",
   "id": "72824e90",
   "metadata": {},
   "source": [
    "step by step sequence to solve the problem"
   ]
  },
  {
   "cell_type": "markdown",
   "id": "b4168f80",
   "metadata": {},
   "source": [
    "# creating data set"
   ]
  },
  {
   "cell_type": "code",
   "execution_count": 6,
   "id": "6d3725be",
   "metadata": {},
   "outputs": [],
   "source": [
    "data=[11,12,13,14,15,16,21,2,22,44,55,43,67]"
   ]
  },
  {
   "cell_type": "code",
   "execution_count": 7,
   "id": "90832348",
   "metadata": {},
   "outputs": [
    {
     "name": "stdout",
     "output_type": "stream",
     "text": [
      "[11, 12, 13, 14, 15, 16, 21, 2, 22, 44, 55, 43, 67]\n"
     ]
    }
   ],
   "source": [
    "print(data)"
   ]
  },
  {
   "cell_type": "code",
   "execution_count": 11,
   "id": "66a6746e",
   "metadata": {},
   "outputs": [],
   "source": [
    "data.sort(reverse=True)"
   ]
  },
  {
   "cell_type": "code",
   "execution_count": 12,
   "id": "69b855b9",
   "metadata": {},
   "outputs": [
    {
     "name": "stdout",
     "output_type": "stream",
     "text": [
      "[67, 55, 44, 43, 22, 21, 16, 15, 14, 13, 12, 11, 2]\n"
     ]
    }
   ],
   "source": [
    "print(data)"
   ]
  },
  {
   "cell_type": "code",
   "execution_count": 14,
   "id": "e32bec49",
   "metadata": {},
   "outputs": [
    {
     "name": "stdout",
     "output_type": "stream",
     "text": [
      "[2, 11, 12, 13, 14, 15, 16, 21, 22, 43, 44, 55, 67]\n"
     ]
    }
   ],
   "source": [
    "print(data)"
   ]
  },
  {
   "cell_type": "markdown",
   "id": "02510ddb",
   "metadata": {},
   "source": [
    "# binary search algorithm"
   ]
  },
  {
   "cell_type": "code",
   "execution_count": 3,
   "id": "6cc0bbe0",
   "metadata": {},
   "outputs": [
    {
     "name": "stdout",
     "output_type": "stream",
     "text": [
      "255\n"
     ]
    }
   ],
   "source": [
    "data=[11,12,13,14,15,16,21,2,22,44,55,43,67]\n",
    "element=int(input())\n",
    "def binary_search(data,element):\n",
    "    \n",
    "    low=0\n",
    "    high=len(data)-1\n",
    "    \n",
    "    while low<=high:\n",
    "        \n",
    "        middle=(low+high)//2\n",
    "        \n",
    "        if data[middle]==element:\n",
    "            print(f\"the searching element {element} is present at index value {middle} in data set\")\n",
    "            break\n",
    "        elif data[middle] > element:\n",
    "            high=middle-1\n",
    "        else:\n",
    "            low=middle+1\n",
    "    if data[middle] !=  element:\n",
    "        print(f\"the searching element {element} is not present\")\n",
    "        return -1"
   ]
  },
  {
   "cell_type": "code",
   "execution_count": 4,
   "id": "a5b77a4b",
   "metadata": {},
   "outputs": [
    {
     "name": "stdout",
     "output_type": "stream",
     "text": [
      "the searching element 255 is not present\n"
     ]
    },
    {
     "data": {
      "text/plain": [
       "-1"
      ]
     },
     "execution_count": 4,
     "metadata": {},
     "output_type": "execute_result"
    }
   ],
   "source": [
    "binary_search(data,element)"
   ]
  },
  {
   "cell_type": "code",
   "execution_count": null,
   "id": "c0c78772",
   "metadata": {},
   "outputs": [],
   "source": []
  }
 ],
 "metadata": {
  "kernelspec": {
   "display_name": "Python 3 (ipykernel)",
   "language": "python",
   "name": "python3"
  },
  "language_info": {
   "codemirror_mode": {
    "name": "ipython",
    "version": 3
   },
   "file_extension": ".py",
   "mimetype": "text/x-python",
   "name": "python",
   "nbconvert_exporter": "python",
   "pygments_lexer": "ipython3",
   "version": "3.9.12"
  }
 },
 "nbformat": 4,
 "nbformat_minor": 5
}
